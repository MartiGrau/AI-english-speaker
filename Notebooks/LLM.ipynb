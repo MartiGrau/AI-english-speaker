{
 "cells": [
  {
   "cell_type": "markdown",
   "id": "fd0bc292-5800-4093-8e59-f9d3030fd9ac",
   "metadata": {},
   "source": [
    "> **Date:** 04/12/23"
   ]
  },
  {
   "cell_type": "markdown",
   "id": "edf052a5-db09-42d3-9210-e3cabd715ef0",
   "metadata": {},
   "source": [
    "# LLM models\n",
    "### Goal:\n",
    "Test several open source LLM models.\n",
    "\n",
    "### Resources:\n",
    "- OpenAI - ChatGPT3.5 (payment LLM API) [LINK](https://openai.com/blog/openai-api)\n",
    "- "
   ]
  },
  {
   "cell_type": "markdown",
   "id": "a99e7837-63ca-4460-90b2-98b0eb7f2394",
   "metadata": {},
   "source": [
    "## Install dependecies"
   ]
  },
  {
   "cell_type": "code",
   "execution_count": null,
   "id": "40928ac0-c960-43e4-9788-a284faada88e",
   "metadata": {},
   "outputs": [],
   "source": [
    "!pip install openai python-dotenv"
   ]
  },
  {
   "cell_type": "markdown",
   "id": "e1fa2567-06ad-407a-b303-df3a87473cd5",
   "metadata": {},
   "source": [
    "## Testing OpenAI - Chatgpt3.5 API\n",
    "> - 1) You will have to register to [OpenAI](https://openai.com/blog/openai-api) and get an API Key.\n",
    "> -  2) Place your API Key to a .env file with the following name:  \n",
    "\n",
    "**.env** file:\n",
    "```OPENAI_APIKEY = \"Your API Key```"
   ]
  },
  {
   "cell_type": "markdown",
   "id": "8ab12726-52b1-47d3-91c1-b5d9e44ae680",
   "metadata": {},
   "source": [
    "#### Imports "
   ]
  },
  {
   "cell_type": "code",
   "execution_count": 6,
   "id": "54fcf7af-9dbf-4ca0-975f-0baaceeb46f8",
   "metadata": {},
   "outputs": [
    {
     "data": {
      "text/plain": [
       "True"
      ]
     },
     "execution_count": 6,
     "metadata": {},
     "output_type": "execute_result"
    }
   ],
   "source": [
    "import os\n",
    "from openai import OpenAI\n",
    "\n",
    "from dotenv import load_dotenv\n",
    "from IPython.display import display, Markdown\n",
    "\n",
    "load_dotenv()"
   ]
  },
  {
   "cell_type": "code",
   "execution_count": 9,
   "id": "2ddb2dc9-1ef7-4155-9b72-9efc40403ca1",
   "metadata": {},
   "outputs": [],
   "source": [
    "# Set openai.api_key to the OPENAI environment variable\n",
    "chatgpt = OpenAI(api_key=os.environ[\"OPENAI_APIKEY\"])"
   ]
  },
  {
   "cell_type": "markdown",
   "id": "518940ce-47c3-408e-ad8f-ea1fa51c87b2",
   "metadata": {},
   "source": [
    "#### Inference ChatGPT"
   ]
  },
  {
   "cell_type": "code",
   "execution_count": 10,
   "id": "99d379b2-b220-4c22-80ee-49e719e04aa0",
   "metadata": {},
   "outputs": [],
   "source": [
    "SYSTM_MESSAGE = \"You are an English Teacher and you have to create a conversation and correct the user message if needed. Respond with no more than 100 words.\"\n",
    "USER_MESSAGE = \"Hello, could you provide me some aspect to talk abount and learn english?\""
   ]
  },
  {
   "cell_type": "code",
   "execution_count": 14,
   "id": "645464f7-b80d-4ff4-97e1-28bb2f68688a",
   "metadata": {},
   "outputs": [
    {
     "name": "stdout",
     "output_type": "stream",
     "text": [
      "ChatCompletionMessage(content=\"Hello! Absolutely, there are many aspects of English that we can explore together. One key aspect to focus on is vocabulary. Learning new words and their usage can greatly enhance your communication skills. Additionally, we can discuss grammar rules, practice reading comprehension, or engage in conversational exercises to improve your speaking skills. Let me know which aspect interests you the most, and we'll tailor our discussions accordingly.\", role='assistant', function_call=None, tool_calls=None)\n"
     ]
    }
   ],
   "source": [
    "response = chatgpt.chat.completions.create(\n",
    "              model=\"gpt-3.5-turbo\",\n",
    "              messages=[\n",
    "                  {\n",
    "                      \"role\": \"system\", \n",
    "                      \"content\": SYSTM_MESSAGE\n",
    "                  },\n",
    "                  {\n",
    "                      \"role\": \"user\", \n",
    "                      \"content\": USER_MESSAGE\n",
    "                  }\n",
    "              ])\n",
    "print(response.choices[0].message.content)"
   ]
  }
 ],
 "metadata": {
  "kernelspec": {
   "display_name": "Python 3 (ipykernel)",
   "language": "python",
   "name": "python3"
  },
  "language_info": {
   "codemirror_mode": {
    "name": "ipython",
    "version": 3
   },
   "file_extension": ".py",
   "mimetype": "text/x-python",
   "name": "python",
   "nbconvert_exporter": "python",
   "pygments_lexer": "ipython3",
   "version": "3.10.12"
  }
 },
 "nbformat": 4,
 "nbformat_minor": 5
}
