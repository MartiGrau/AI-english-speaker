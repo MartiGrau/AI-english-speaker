{
 "cells": [
  {
   "cell_type": "markdown",
   "id": "5f699813-3469-4781-a69d-453f9e8c1a64",
   "metadata": {},
   "source": [
    "> **Date:** 03/09/23\n",
    "# Speach to text model\n",
    "\n",
    "#### Goal:\n",
    "Find a model for speach to text generation.  \n",
    "\n",
    "\n",
    "#### Resources:\n",
    "- Creating YouTube Captions with Wav2Vec [Link Colab](https://colab.research.google.com/github/Muennighoff/ytclipcc/blob/main/wav2vec_youtube_captions.ipynb)"
   ]
  },
  {
   "cell_type": "markdown",
   "id": "407789d6-1211-47e2-a1de-8f673d8b2df7",
   "metadata": {},
   "source": [
    "## Installing dependencies"
   ]
  },
  {
   "cell_type": "code",
   "execution_count": null,
   "id": "878d9a14-2eae-4840-8bc3-8f827d7d99ee",
   "metadata": {},
   "outputs": [],
   "source": [
    "!pip install transformers\n",
    "!pip install torch"
   ]
  },
  {
   "cell_type": "markdown",
   "id": "3c699f4d-84b7-4342-a2bb-b8fd737de644",
   "metadata": {},
   "source": [
    "### Imports"
   ]
  },
  {
   "cell_type": "code",
   "execution_count": null,
   "id": "1b4f8704-dd03-4849-b1d5-2da03555e40e",
   "metadata": {},
   "outputs": [],
   "source": [
    "from transformers import Wav2Vec2Tokenizer, Wav2Vec2ForCTC\n",
    "from IPython.display import Audio\n",
    "import moviepy.editor as mp\n",
    "import torch\n",
    "import librosa\n",
    "import os"
   ]
  },
  {
   "cell_type": "markdown",
   "id": "fde2d521-cd2c-4173-8cf1-becbf064a960",
   "metadata": {},
   "source": [
    "### Load models"
   ]
  },
  {
   "cell_type": "code",
   "execution_count": null,
   "id": "5351b4dd-d0d9-4e7c-8522-f4bb2e730293",
   "metadata": {},
   "outputs": [],
   "source": [
    "tokenizer = Wav2Vec2Tokenizer.from_pretrained(\"facebook/wav2vec2-base-960h\")\n",
    "model = Wav2Vec2ForCTC.from_pretrained(\"facebook/wav2vec2-base-960h\")"
   ]
  },
  {
   "cell_type": "markdown",
   "id": "7936fc3b-82c5-4a99-8fab-67f8e7347e19",
   "metadata": {},
   "source": [
    "### Extract Audio"
   ]
  },
  {
   "cell_type": "code",
   "execution_count": null,
   "id": "b416b81e-99f4-4824-a50d-8f20062fb353",
   "metadata": {},
   "outputs": [],
   "source": [
    "clip = mp.VideoFileClip(\"clip.mp4\")\n",
    "end = min(clip.duration, end)\n",
    "\n",
    "# Save the paths for later\n",
    "clip_paths = []\n",
    "\n",
    "# Extract Audio-only from mp4\n",
    "for i in range(start, int(end), 10):\n",
    "  sub_end = min(i+10, end)\n",
    "  sub_clip = clip.subclip(i,sub_end)\n",
    "\n",
    "  sub_clip.audio.write_audiofile(\"audio_\" + str(i) + \".mp3\")\n",
    "  clip_paths.append(\"audio_\" + str(i) + \".mp3\")"
   ]
  },
  {
   "cell_type": "markdown",
   "id": "94f50a1b-3a88-4c82-b289-df5dca5e4f7e",
   "metadata": {},
   "source": [
    "### Transcribe Audio"
   ]
  },
  {
   "cell_type": "code",
   "execution_count": null,
   "id": "e0632b21-cb88-487a-933e-2d178854bd30",
   "metadata": {},
   "outputs": [],
   "source": [
    "cc = \"\"\n",
    "\n",
    "for path in clip_paths:\n",
    "    # Load the audio with the librosa library\n",
    "    input_audio, _ = librosa.load(path, \n",
    "                                sr=16000)\n",
    "\n",
    "    # Tokenize the audio\n",
    "    input_values = tokenizer(input_audio, return_tensors=\"pt\", padding=\"longest\").input_values\n",
    "\n",
    "    # Feed it through Wav2Vec & choose the most probable tokens\n",
    "    with torch.no_grad():\n",
    "      logits = model(input_values).logits\n",
    "      predicted_ids = torch.argmax(logits, dim=-1)\n",
    "\n",
    "    # Decode & add to our caption string\n",
    "    transcription = tokenizer.batch_decode(predicted_ids)[0]\n",
    "    cc += transcription + \" \"\n",
    "\n",
    "# Here's your caption!\n",
    "# Note that there may be mistakes especially if the audio is noisy or there are uncommon words\n",
    "# If you picked the default video and change start to 0, you will see that the model gets confused by the word \"Anakin\"\n",
    "print(cc)"
   ]
  }
 ],
 "metadata": {
  "kernelspec": {
   "display_name": "Python 3 (ipykernel)",
   "language": "python",
   "name": "python3"
  },
  "language_info": {
   "codemirror_mode": {
    "name": "ipython",
    "version": 3
   },
   "file_extension": ".py",
   "mimetype": "text/x-python",
   "name": "python",
   "nbconvert_exporter": "python",
   "pygments_lexer": "ipython3",
   "version": "3.10.12"
  }
 },
 "nbformat": 4,
 "nbformat_minor": 5
}
