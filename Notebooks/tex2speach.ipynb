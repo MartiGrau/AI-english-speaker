{
 "cells": [
  {
   "cell_type": "markdown",
   "id": "bc67db12-ee78-493e-9e9d-dd5725874ace",
   "metadata": {},
   "source": [
    "> **Date:** 03/09/23\n",
    "#  Text to speach model\n",
    "\n",
    "#### Goal:\n",
    "Find a model for text to speach generation.  \n",
    "Tradeoff between quality and fast.\n",
    "\n",
    "#### Resources:\n",
    "- TorToise [Link](https://huggingface.co/jbetker/tortoise-tts-v2)"
   ]
  },
  {
   "cell_type": "markdown",
   "id": "cf9d219d-0fb9-4a31-907f-6cab845cc5d6",
   "metadata": {},
   "source": [
    "## Installing dependencies"
   ]
  },
  {
   "cell_type": "code",
   "execution_count": null,
   "id": "aa97a229-fd30-4fd9-b439-5d53f759b4ba",
   "metadata": {},
   "outputs": [],
   "source": []
  },
  {
   "cell_type": "markdown",
   "id": "35094477-910b-44db-ba81-7beec68cfb88",
   "metadata": {},
   "source": [
    "### Imports"
   ]
  },
  {
   "cell_type": "code",
   "execution_count": null,
   "id": "a3732d5b-fe78-44f6-b192-783a47101a80",
   "metadata": {},
   "outputs": [],
   "source": []
  },
  {
   "cell_type": "markdown",
   "id": "34ab2812-14d7-4821-96ec-19b86312f4b6",
   "metadata": {},
   "source": [
    "### Load models"
   ]
  },
  {
   "cell_type": "code",
   "execution_count": null,
   "id": "3542c8f1-66f8-4f20-989f-97ca38a494d6",
   "metadata": {},
   "outputs": [],
   "source": []
  },
  {
   "cell_type": "code",
   "execution_count": null,
   "id": "f2ad3455-71a9-4b7d-a58d-e74c70ea3d3e",
   "metadata": {},
   "outputs": [],
   "source": []
  }
 ],
 "metadata": {
  "kernelspec": {
   "display_name": "Python 3 (ipykernel)",
   "language": "python",
   "name": "python3"
  },
  "language_info": {
   "codemirror_mode": {
    "name": "ipython",
    "version": 3
   },
   "file_extension": ".py",
   "mimetype": "text/x-python",
   "name": "python",
   "nbconvert_exporter": "python",
   "pygments_lexer": "ipython3",
   "version": "3.10.12"
  }
 },
 "nbformat": 4,
 "nbformat_minor": 5
}
