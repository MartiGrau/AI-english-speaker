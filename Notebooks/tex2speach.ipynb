{
 "cells": [
  {
   "cell_type": "markdown",
   "id": "bc67db12-ee78-493e-9e9d-dd5725874ace",
   "metadata": {},
   "source": [
    "> **Date:** 03/09/23\n",
    "#  Text to speach model\n",
    "\n",
    "#### Goal:\n",
    "Find a model for text to speach generation.  \n",
    "Tradeoff between quality and fast.\n",
    "\n",
    "#### Resources:\n",
    "- TorToise [Link](https://huggingface.co/jbetker/tortoise-tts-v2)\n",
    "- Bark [Link](https://huggingface.co/suno/bark)\n",
    "- Microsoft Speecht5_tts [Link](https://huggingface.co/microsoft/speecht5_tts)"
   ]
  },
  {
   "cell_type": "markdown",
   "id": "cf9d219d-0fb9-4a31-907f-6cab845cc5d6",
   "metadata": {},
   "source": [
    "## Installing dependencies"
   ]
  },
  {
   "cell_type": "code",
   "execution_count": null,
   "id": "aa97a229-fd30-4fd9-b439-5d53f759b4ba",
   "metadata": {},
   "outputs": [],
   "source": [
    "pip install --upgrade pip\n",
    "pip install --upgrade transformers scipy"
   ]
  },
  {
   "cell_type": "markdown",
   "id": "35094477-910b-44db-ba81-7beec68cfb88",
   "metadata": {},
   "source": [
    "## Testing Suno - Bark"
   ]
  },
  {
   "cell_type": "code",
   "execution_count": null,
   "id": "a3732d5b-fe78-44f6-b192-783a47101a80",
   "metadata": {},
   "outputs": [],
   "source": [
    "import scipy\n",
    "from IPython.display import Audio\n",
    "from transformers import pipeline"
   ]
  },
  {
   "cell_type": "code",
   "execution_count": null,
   "id": "3542c8f1-66f8-4f20-989f-97ca38a494d6",
   "metadata": {},
   "outputs": [],
   "source": [
    "# Loading model\n",
    "synthesiser = pipeline(\"text-to-speech\", \"suno/bark\", device='cuda')"
   ]
  },
  {
   "cell_type": "code",
   "execution_count": null,
   "id": "8ec9cf11-a0e4-4f3f-a4e6-4a8c436ca0f8",
   "metadata": {},
   "outputs": [],
   "source": [
    "TEXT_TO_REPRODUCE = \"Hello, my name is Martí, how are you?\"\n",
    "\n",
    "# Inference\n",
    "speech = synthesiser(TEXT_TO_REPRODUCE, forward_params={\"do_sample\": True})\n",
    "sampling_rate = synthesiser.model.generation_config.sample_rate\n",
    "Audio(speech['audio'], rate=sampling_rate)"
   ]
  },
  {
   "cell_type": "markdown",
   "id": "e84be492-706d-4c5b-a66e-476e0294d0e3",
   "metadata": {},
   "source": [
    "## Testing Microsoft SpeechT5 (TTS task)"
   ]
  },
  {
   "cell_type": "code",
   "execution_count": null,
   "id": "e0250e10-26bb-4689-be33-1c4fb0a77898",
   "metadata": {},
   "outputs": [],
   "source": [
    "import torch\n",
    "from transformers import pipeline\n",
    "from datasets import load_dataset\n",
    "from IPython.display import Audio"
   ]
  },
  {
   "cell_type": "code",
   "execution_count": null,
   "id": "c06e27e7-d627-481d-bde8-234d8850eb00",
   "metadata": {},
   "outputs": [],
   "source": [
    "synthesiser = pipeline(\"text-to-speech\", \"microsoft/speecht5_tts\")\n",
    "\n",
    "sampling_rate = synthesiser.sampling_rate\n",
    "embeddings_dataset = load_dataset(\"Matthijs/cmu-arctic-xvectors\", split=\"validation\")\n",
    "speaker_embedding = torch.tensor(embeddings_dataset[7306][\"xvector\"]).unsqueeze(0)\n",
    "# You can replace this embedding with your own as well."
   ]
  },
  {
   "cell_type": "code",
   "execution_count": null,
   "id": "ddc0c600-d62a-4214-8067-3b2f19e0570d",
   "metadata": {},
   "outputs": [],
   "source": [
    "TEXT_TO_REPRODUCE = \"Could you provide me some vocabulary to learn in English?\"\n",
    "\n",
    "speech = synthesiser(TEXT_TO_REPRODUCE, forward_params={\"speaker_embeddings\": speaker_embedding})\n",
    "Audio(speech['audio'], rate=sampling_rate)"
   ]
  },
  {
   "cell_type": "code",
   "execution_count": null,
   "id": "e5a8e7d5-36dc-4f7e-af1d-01025d653ba6",
   "metadata": {},
   "outputs": [],
   "source": [
    "speech"
   ]
  },
  {
   "cell_type": "code",
   "execution_count": null,
   "id": "92aac831-c762-42b7-bf72-2924e8115e1b",
   "metadata": {},
   "outputs": [],
   "source": []
  }
 ],
 "metadata": {
  "kernelspec": {
   "display_name": "Python 3 (ipykernel)",
   "language": "python",
   "name": "python3"
  },
  "language_info": {
   "codemirror_mode": {
    "name": "ipython",
    "version": 3
   },
   "file_extension": ".py",
   "mimetype": "text/x-python",
   "name": "python",
   "nbconvert_exporter": "python",
   "pygments_lexer": "ipython3",
   "version": "3.10.12"
  }
 },
 "nbformat": 4,
 "nbformat_minor": 5
}
