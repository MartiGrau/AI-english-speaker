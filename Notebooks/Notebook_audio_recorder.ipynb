{
 "cells": [
  {
   "cell_type": "markdown",
   "id": "47938b86-9f59-4d4b-a740-a91d0b3526b4",
   "metadata": {},
   "source": [
    "## \n",
    "\n",
    "### Resources:\n",
    "- **Record Audio in a Notebook**: [LINK](https://gist.github.com/mogwai/85dde6c28a16b9c10bfea4baacd1a4c4)\n",
    "\n",
    "### Installing dependencies"
   ]
  },
  {
   "cell_type": "code",
   "execution_count": null,
   "id": "0d9af477-d6f5-4e8e-be70-45ef2b552df4",
   "metadata": {},
   "outputs": [],
   "source": [
    "#!pip install ipywebrtc ipywebrtc\n",
    "!jupyter labextension enable torchaudio"
   ]
  },
  {
   "cell_type": "markdown",
   "id": "03a14631-59c2-4454-adbe-d3f5eee084d9",
   "metadata": {},
   "source": [
    "### Imports"
   ]
  },
  {
   "cell_type": "code",
   "execution_count": null,
   "id": "c9e168b3-3e92-440f-a9c7-953461caa348",
   "metadata": {},
   "outputs": [],
   "source": [
    "from ipywebrtc import AudioRecorder, CameraStream\n",
    "import torchaudio\n",
    "from IPython.display import Audio"
   ]
  },
  {
   "cell_type": "code",
   "execution_count": null,
   "id": "772157d9-1454-4cf3-8b4d-bfd2fa762f36",
   "metadata": {},
   "outputs": [],
   "source": [
    "camera = CameraStream(constraints={'audio': True,'video':False})\n",
    "recorder = AudioRecorder(stream=camera)\n",
    "recorder"
   ]
  },
  {
   "cell_type": "code",
   "execution_count": null,
   "id": "41c333f2-1bd7-4ed6-a68d-4cbb08b22129",
   "metadata": {},
   "outputs": [],
   "source": [
    "with open('recording.webm', 'wb') as f:\n",
    "    f.write(recorder.audio.value)\n",
    "!ffmpeg -i recording.webm -ac 1 -f wav file.wav -y -hide_banner -loglevel panic\n",
    "sig, sr = torchaudio.load(\"file.wav\")\n",
    "print(sig.shape)\n",
    "Audio(data=sig, rate=sr)"
   ]
  },
  {
   "cell_type": "code",
   "execution_count": null,
   "id": "c2f519b3-bace-451e-be8e-f5f50b52159a",
   "metadata": {},
   "outputs": [],
   "source": []
  }
 ],
 "metadata": {
  "kernelspec": {
   "display_name": "Python 3 (ipykernel)",
   "language": "python",
   "name": "python3"
  },
  "language_info": {
   "codemirror_mode": {
    "name": "ipython",
    "version": 3
   },
   "file_extension": ".py",
   "mimetype": "text/x-python",
   "name": "python",
   "nbconvert_exporter": "python",
   "pygments_lexer": "ipython3",
   "version": "3.10.12"
  }
 },
 "nbformat": 4,
 "nbformat_minor": 5
}
